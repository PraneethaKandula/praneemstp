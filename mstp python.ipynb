{
 "cells": [
  {
   "cell_type": "markdown",
   "metadata": {},
   "source": [
    "## Files"
   ]
  },
  {
   "cell_type": "code",
   "execution_count": 1,
   "metadata": {},
   "outputs": [],
   "source": [
    "fa=open('file1.txt','w')\n",
    "data='python programming'\n",
    "fa.write(data)\n",
    "fa.close()"
   ]
  },
  {
   "cell_type": "code",
   "execution_count": 2,
   "metadata": {},
   "outputs": [
    {
     "name": "stdout",
     "output_type": "stream",
     "text": [
      "python programming\n"
     ]
    }
   ],
   "source": [
    "fa=open('file1.txt','r')\n",
    "r=fa.read()\n",
    "print(r)\n",
    "fa.close()"
   ]
  },
  {
   "cell_type": "code",
   "execution_count": 3,
   "metadata": {},
   "outputs": [],
   "source": [
    "fa=open('num.txt','w')\n",
    "for i in range(1,101):\n",
    "    fa.write(str(i))\n",
    "    fa.write('\\n')\n",
    "fa.close()"
   ]
  },
  {
   "cell_type": "code",
   "execution_count": 4,
   "metadata": {},
   "outputs": [
    {
     "name": "stdout",
     "output_type": "stream",
     "text": [
      "['1\\n', '2\\n', '3\\n', '4\\n', '5\\n', '6\\n', '7\\n', '8\\n', '9\\n', '10\\n', '11\\n', '12\\n', '13\\n', '14\\n', '15\\n', '16\\n', '17\\n', '18\\n', '19\\n', '20\\n', '21\\n', '22\\n', '23\\n', '24\\n', '25\\n', '26\\n', '27\\n', '28\\n', '29\\n', '30\\n', '31\\n', '32\\n', '33\\n', '34\\n', '35\\n', '36\\n', '37\\n', '38\\n', '39\\n', '40\\n', '41\\n', '42\\n', '43\\n', '44\\n', '45\\n', '46\\n', '47\\n', '48\\n', '49\\n', '50\\n', '51\\n', '52\\n', '53\\n', '54\\n', '55\\n', '56\\n', '57\\n', '58\\n', '59\\n', '60\\n', '61\\n', '62\\n', '63\\n', '64\\n', '65\\n', '66\\n', '67\\n', '68\\n', '69\\n', '70\\n', '71\\n', '72\\n', '73\\n', '74\\n', '75\\n', '76\\n', '77\\n', '78\\n', '79\\n', '80\\n', '81\\n', '82\\n', '83\\n', '84\\n', '85\\n', '86\\n', '87\\n', '88\\n', '89\\n', '90\\n', '91\\n', '92\\n', '93\\n', '94\\n', '95\\n', '96\\n', '97\\n', '98\\n', '99\\n', '100\\n']\n"
     ]
    }
   ],
   "source": [
    "fa=open('num.txt','r')\n",
    "fs=open('evenum.txt','w')\n",
    "data=fa.readlines()\n",
    "print(data)\n",
    "for l in data:\n",
    "    s=l.rstrip('\\n')\n",
    "    if s.isdigit():\n",
    "        if int(s)%2==0:\n",
    "            fs.write(s)\n",
    "            fs.write(' ')\n",
    "fs.close()\n",
    "fa.close()"
   ]
  },
  {
   "cell_type": "code",
   "execution_count": 14,
   "metadata": {},
   "outputs": [
    {
     "name": "stdout",
     "output_type": "stream",
     "text": [
      "['2', '4', '6', '8', '10', '12', '14', '16', '18', '20', '22', '24', '26', '28', '30', '32', '34', '36', '38', '40', '42', '44', '46', '48', '50', '52', '54', '56', '58', '60', '62', '64', '66', '68', '70', '72', '74', '76', '78', '80', '82', '84', '86', '88', '90', '92', '94', '96', '98', '100', '']\n"
     ]
    }
   ],
   "source": [
    "fa=open('evenum.txt','r')\n",
    "fs=open('squ.txt','w')\n",
    "data=fa.readline().split(' ')\n",
    "print(data)\n",
    "for l in data:\n",
    "    s=l.rstrip('\\n')\n",
    "    if s.isdigit():\n",
    "        e=int(s)**2\n",
    "        fs.write(str(e))\n",
    "        fs.write('\\t')\n",
    "fs.close()\n",
    "fa.close()"
   ]
  },
  {
   "cell_type": "code",
   "execution_count": 10,
   "metadata": {},
   "outputs": [
    {
     "data": {
      "text/plain": [
       "['2 4 6 8 10 12 14 16 18 20 22 24 26 28 30 32 34 36 38 40 42 44 46 48 50 52 54 56 58 60 62 64 66 68 70 72 74 76 78 80 82 84 86 88 90 92 94 96 98 100 ']"
      ]
     },
     "execution_count": 10,
     "metadata": {},
     "output_type": "execute_result"
    }
   ],
   "source": [
    "data"
   ]
  },
  {
   "cell_type": "code",
   "execution_count": 23,
   "metadata": {},
   "outputs": [
    {
     "name": "stdout",
     "output_type": "stream",
     "text": [
      "enter rollno:255\n",
      "enter name:deekshi\n",
      "enter country:India\n",
      "enter mobileno:565753567\n",
      "enter rollno:553\n",
      "enter name:pranee\n",
      "enter country:China\n",
      "enter mobileno:8673634\n"
     ]
    }
   ],
   "source": [
    "fa=open('data.txt','a')\n",
    "\n",
    "for i in range(2):\n",
    "    li=[]\n",
    "    r=input(\"enter rollno:\")\n",
    "    name=input(\"enter name:\")\n",
    "    country=input(\"enter country:\")\n",
    "    mobile=input(\"enter mobileno:\")\n",
    "    li.append(r)\n",
    "    li.append(name)\n",
    "    li.append(country)\n",
    "    li.append(mobile)\n",
    "    data='\\n'+r+' '+name+' '+country+' '+mobile\n",
    "    fa.write(data)\n",
    "fa.close()"
   ]
  },
  {
   "cell_type": "code",
   "execution_count": 33,
   "metadata": {},
   "outputs": [
    {
     "name": "stdout",
     "output_type": "stream",
     "text": [
      "['RollNo  Name  Country  MobileNo\\n', '255 deekshi India 565753567\\n', '553 pranee China 8673634']\n",
      "Country\n",
      "India\n",
      "China\n"
     ]
    }
   ],
   "source": [
    "fs=open('data.txt','r')\n",
    "data=fs.readlines()\n",
    "print(data)\n",
    "for l in data:\n",
    "    n=l.split()\n",
    "    print(n[2])\n",
    "fs.close()\n",
    "\n",
    "    "
   ]
  },
  {
   "cell_type": "code",
   "execution_count": null,
   "metadata": {},
   "outputs": [],
   "source": [
    "fn=h=open('student.txt','r')\n",
    "head=fh.readline()\n",
    "data=fh.readlines()\n",
    "for line in data:\n",
    "    per=0;status='p;grade=0\n",
    "    marks=line.split()[2:]\n",
    "    "
   ]
  },
  {
   "cell_type": "markdown",
   "metadata": {},
   "source": [
    "# Regular expressions\n",
    "* ^1[0-9]nm[1|5][a]....\n",
    "* ^[+]91[9876][0-9]{9}|[9876][0-9]{9}|0[9876][0-9]{9}"
   ]
  },
  {
   "cell_type": "code",
   "execution_count": null,
   "metadata": {},
   "outputs": [],
   "source": []
  }
 ],
 "metadata": {
  "kernelspec": {
   "display_name": "Python 3",
   "language": "python",
   "name": "python3"
  },
  "language_info": {
   "codemirror_mode": {
    "name": "ipython",
    "version": 3
   },
   "file_extension": ".py",
   "mimetype": "text/x-python",
   "name": "python",
   "nbconvert_exporter": "python",
   "pygments_lexer": "ipython3",
   "version": "3.7.4"
  }
 },
 "nbformat": 4,
 "nbformat_minor": 2
}

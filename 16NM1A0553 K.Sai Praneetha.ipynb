{
 "cells": [
  {
   "cell_type": "code",
   "execution_count": 3,
   "metadata": {},
   "outputs": [],
   "source": [
    "import pandas as pd\n",
    "import numpy as np"
   ]
  },
  {
   "cell_type": "markdown",
   "metadata": {},
   "source": [
    "##### 1. Write a Pandas program to change the order of index of a given series."
   ]
  },
  {
   "cell_type": "code",
   "execution_count": 2,
   "metadata": {},
   "outputs": [
    {
     "name": "stdout",
     "output_type": "stream",
     "text": [
      "a    5\n",
      "s    6\n",
      "d    7\n",
      "f    8\n",
      "dtype: int64\n",
      "f    8\n",
      "d    7\n",
      "s    6\n",
      "a    5\n",
      "dtype: int64\n"
     ]
    }
   ],
   "source": [
    "s=pd.Series(data=[5,6,7,8],index=['a','s','d','f'])\n",
    "print(s)\n",
    "s=s.reindex(index=['f','d','s','a'])\n",
    "print(s)"
   ]
  },
  {
   "cell_type": "markdown",
   "metadata": {},
   "source": [
    "#### 2. Write a Python program to add, subtract, multiple and divide two Pandas Series."
   ]
  },
  {
   "cell_type": "code",
   "execution_count": 5,
   "metadata": {},
   "outputs": [
    {
     "name": "stdout",
     "output_type": "stream",
     "text": [
      "0     3\n",
      "1     7\n",
      "2    11\n",
      "3    15\n",
      "4    19\n",
      "dtype: int64\n",
      "0    1\n",
      "1    1\n",
      "2    1\n",
      "3    1\n",
      "4    1\n",
      "dtype: int64\n",
      "0     2\n",
      "1    12\n",
      "2    30\n",
      "3    56\n",
      "4    90\n",
      "dtype: int64\n",
      "0    2.000000\n",
      "1    1.333333\n",
      "2    1.200000\n",
      "3    1.142857\n",
      "4    1.111111\n",
      "dtype: float64\n"
     ]
    }
   ],
   "source": [
    "s1=pd.Series([2,4,6,8,10])\n",
    "s2=pd.Series([1,3,5,7,9])\n",
    "add=s1+s2\n",
    "sub=s1-s2\n",
    "mul=s1*s2\n",
    "div=s1/s2\n",
    "print(add)\n",
    "print(sub)\n",
    "print(mul)\n",
    "print(div)"
   ]
  },
  {
   "cell_type": "markdown",
   "metadata": {},
   "source": [
    "#### 3. Write a Python program to convert a Panda module Series to Python list and it's type"
   ]
  },
  {
   "cell_type": "code",
   "execution_count": 6,
   "metadata": {},
   "outputs": [
    {
     "name": "stdout",
     "output_type": "stream",
     "text": [
      "<class 'pandas.core.series.Series'>\n",
      "['a', 'b', 'c', 'd']\n",
      "<class 'list'>\n"
     ]
    }
   ],
   "source": [
    "ser=pd.Series(['a','b','c','d'])\n",
    "print(type(ser))\n",
    "lis=ser.tolist()\n",
    "print(lis)\n",
    "print(type(lis))\n"
   ]
  },
  {
   "cell_type": "markdown",
   "metadata": {},
   "source": [
    "#### 4. Write a Pandas program to select the rows where the score is missing, i.e. is NaN\n",
    "\n",
    " - Sample Python dictionary data and list labels:\n",
    "\n",
    " - exam_data = {name: [Sachin,Ganguly,Kohli,Johnson,Taylor,Waugh,Yuvraj,Kambli,Srinath,Munaf],\n",
    "    score: [12.5, 9, 16.5, np.nan, 9, 20, 14.5, np.nan, 8, 19],\n",
    "    attempts: [1, 3, 2, 3, 2, 3, 1, 1, 2, 1],\n",
    "    qualify: [yes,no,yes,no,no,yes,yes,no,no,yes]}\n",
    "    labels = [a,b,c,d,e,f,g,h,i,j]"
   ]
  },
  {
   "cell_type": "code",
   "execution_count": 9,
   "metadata": {},
   "outputs": [
    {
     "name": "stdout",
     "output_type": "stream",
     "text": [
      "         score  attempts qualify labels\n",
      "Johnson    NaN         3      no      d\n",
      "Kambil     NaN         1      no      h\n"
     ]
    }
   ],
   "source": [
    "name=['Sachin','Ganguly','Kohli','Johnson','Tylor','Waugh','Yuvraj','Kambil','Srinath','Munaf']\n",
    "score=[12.5,9,16.5,np.nan,9,20,14.5,np.nan,8,19]\n",
    "attempts=[1,3,2,3,2,3,1,1,2,1]\n",
    "qualify=['yes','no','yes','no','no','yes','yes','no','no','yes']\n",
    "labels=['a','b','c','d','e','f','g','h','i','j']\n",
    "df={'score':score,'attempts':attempts,'qualify':qualify,'labels':labels}\n",
    "exam_data=pd.DataFrame(df,index=name)\n",
    "print(exam_data[exam_data['score'].isnull()])"
   ]
  },
  {
   "cell_type": "markdown",
   "metadata": {},
   "source": [
    "#### 5. Write a Pandas program to create todays date"
   ]
  },
  {
   "cell_type": "code",
   "execution_count": 11,
   "metadata": {},
   "outputs": [
    {
     "name": "stdout",
     "output_type": "stream",
     "text": [
      "2019-12-31\n"
     ]
    }
   ],
   "source": [
    "print(pd.datetime.now().date())"
   ]
  },
  {
   "cell_type": "markdown",
   "metadata": {},
   "source": [
    "#### 6.Write a Pandas program to create a Pivot table, by considering Titanic Dataset"
   ]
  },
  {
   "cell_type": "code",
   "execution_count": 14,
   "metadata": {},
   "outputs": [
    {
     "name": "stdout",
     "output_type": "stream",
     "text": [
      "                  Fare  Parch  PassengerId  Pclass  SibSp  Survived\n",
      "Sex    Age                                                         \n",
      "female 0.75    38.5166      2         1115       6      4         2\n",
      "       1.00    26.8750      3          555       6      1         2\n",
      "       2.00   259.4750      9         2278      15      9         2\n",
      "       3.00    62.6542      3          419       5      4         1\n",
      "       4.00   114.1417      6         2258      13      4         5\n",
      "...                ...    ...          ...     ...    ...       ...\n",
      "male   70.00   81.5000      1         1419       3      1         0\n",
      "       70.50    7.7500      0          117       3      0         0\n",
      "       71.00   84.1584      0          591       2      0         0\n",
      "       74.00    7.7750      0          852       3      0         0\n",
      "       80.00   30.0000      0          631       1      0         1\n",
      "\n",
      "[145 rows x 6 columns]\n"
     ]
    }
   ],
   "source": [
    "df=pd.read_csv('titanic.csv')\n",
    "result=pd.pivot_table(df,index=['Sex','Age'],aggfunc=np.sum)\n",
    "print(result)"
   ]
  },
  {
   "cell_type": "markdown",
   "metadata": {},
   "source": [
    "#### 7.Write a NumPy program to create a 3x3 matrix with values ranging from 2 to 10"
   ]
  },
  {
   "cell_type": "code",
   "execution_count": 12,
   "metadata": {},
   "outputs": [
    {
     "data": {
      "text/plain": [
       "array([[ 2,  3,  4],\n",
       "       [ 5,  6,  7],\n",
       "       [ 8,  9, 10]])"
      ]
     },
     "execution_count": 12,
     "metadata": {},
     "output_type": "execute_result"
    }
   ],
   "source": [
    "np.arange(2,11).reshape(3,3)"
   ]
  },
  {
   "cell_type": "markdown",
   "metadata": {},
   "source": [
    "#### 8.Illustrate the difference between ravel and flatten by taking considering multidimensional array."
   ]
  },
  {
   "cell_type": "code",
   "execution_count": 17,
   "metadata": {},
   "outputs": [
    {
     "name": "stdout",
     "output_type": "stream",
     "text": [
      "[1 2 3 4 5 6 7 8 9]\n",
      "[1 2 3 4 5 6 7 8 9]\n"
     ]
    }
   ],
   "source": [
    "q=np.arange(1,10).reshape(3,3)\n",
    "print(q.flatten())\n",
    "print(q.ravel())"
   ]
  },
  {
   "cell_type": "markdown",
   "metadata": {},
   "source": [
    "#### 9. Create a 3×3 numpy array, find out the Minimum,Maximum values and also their indices accordingly for each axes. Also find out the Statistical methods such as Standard Deviation,Cumulative sum and product."
   ]
  },
  {
   "cell_type": "code",
   "execution_count": 16,
   "metadata": {},
   "outputs": [
    {
     "name": "stdout",
     "output_type": "stream",
     "text": [
      "[[0.78517473 0.3123832  0.02394632]\n",
      " [0.57900218 0.27928191 0.53877864]\n",
      " [0.44908786 0.01828028 0.44991347]]\n",
      "0.018280279814493205\n",
      "0.7851747329705784\n",
      "0.238267764271836\n",
      "0.018280279814493205\n"
     ]
    }
   ],
   "source": [
    "r=np.random.random((3,3))\n",
    "print(r)\n",
    "print(np.min(r))\n",
    "print(np.max(r))\n",
    "print(np.std(r))\n",
    "print(np.min(r))"
   ]
  },
  {
   "cell_type": "markdown",
   "metadata": {},
   "source": [
    "#### 10. Illustrate the concept of splitting by taking random positive values and also implementing different stacking methods on them."
   ]
  },
  {
   "cell_type": "code",
   "execution_count": 20,
   "metadata": {},
   "outputs": [
    {
     "name": "stdout",
     "output_type": "stream",
     "text": [
      "[[0.9067083  0.82033811 0.53705689]\n",
      " [0.95459047 0.80493765 0.80574931]\n",
      " [0.82211387 0.73890233 0.88419215]\n",
      " [0.79420545 0.55322592 0.63190836]\n",
      " [0.65989929 0.228528   0.42801632]\n",
      " [0.14180041 0.94117766 0.23561338]]\n",
      "[[0.9067083  0.82033811 0.53705689 0.79420545 0.55322592 0.63190836]\n",
      " [0.95459047 0.80493765 0.80574931 0.65989929 0.228528   0.42801632]\n",
      " [0.82211387 0.73890233 0.88419215 0.14180041 0.94117766 0.23561338]]\n"
     ]
    }
   ],
   "source": [
    "w=np.random.random((3,3))\n",
    "r=np.random.random((3,3))\n",
    "print(np.vstack((w,r)))\n",
    "print(np.hstack((w,r)))"
   ]
  },
  {
   "cell_type": "code",
   "execution_count": null,
   "metadata": {},
   "outputs": [],
   "source": []
  }
 ],
 "metadata": {
  "kernelspec": {
   "display_name": "Python 3",
   "language": "python",
   "name": "python3"
  },
  "language_info": {
   "codemirror_mode": {
    "name": "ipython",
    "version": 3
   },
   "file_extension": ".py",
   "mimetype": "text/x-python",
   "name": "python",
   "nbconvert_exporter": "python",
   "pygments_lexer": "ipython3",
   "version": "3.7.4"
  }
 },
 "nbformat": 4,
 "nbformat_minor": 2
}
